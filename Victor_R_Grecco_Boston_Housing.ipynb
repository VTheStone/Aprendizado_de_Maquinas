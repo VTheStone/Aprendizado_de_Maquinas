{
  "nbformat": 4,
  "nbformat_minor": 0,
  "metadata": {
    "colab": {
      "name": "Victor_R_Grecco_Boston_Housing",
      "provenance": [],
      "collapsed_sections": [
        "FlNcH4ajDOLq",
        "b_F6PfEEEKyI",
        "Nb2FSH1fuMvF",
        "-RjlEe7Yupyq",
        "qK-tMpWJu0lE",
        "Q9H9Ihcku_Rt",
        "QmKhBdNUvI58",
        "EOwKz4O632rc",
        "b-aK9SGH7e_-",
        "QlzH-_Q57sr8",
        "mgIzqxQt7fn-",
        "gEQeKLsLvQty"
      ],
      "authorship_tag": "ABX9TyN8oJgfSUhfKhd2fPS5dVkV",
      "include_colab_link": true
    },
    "kernelspec": {
      "name": "python3",
      "display_name": "Python 3"
    }
  },
  "cells": [
    {
      "cell_type": "markdown",
      "metadata": {
        "id": "view-in-github",
        "colab_type": "text"
      },
      "source": [
        "<a href=\"https://colab.research.google.com/github/VTheStone/Aprendizado_de_Maquinas/blob/main/Victor_R_Grecco_Boston_Housing.ipynb\" target=\"_parent\"><img src=\"https://colab.research.google.com/assets/colab-badge.svg\" alt=\"Open In Colab\"/></a>"
      ]
    },
    {
      "cell_type": "markdown",
      "metadata": {
        "id": "FlNcH4ajDOLq"
      },
      "source": [
        "## **Import Libraries**"
      ]
    },
    {
      "cell_type": "code",
      "metadata": {
        "id": "pBBjpG6iqcUR"
      },
      "source": [
        "import pandas as pd\r\n",
        "import numpy as np\r\n",
        "import matplotlib as mpl\r\n",
        "import matplotlib.pyplot as plt\r\n",
        "import seaborn as sns\r\n",
        "\r\n",
        "from sklearn.model_selection import train_test_split\r\n",
        "from sklearn.model_selection import StratifiedShuffleSplit\r\n",
        "from pandas.plotting import scatter_matrix\r\n",
        "from sklearn.pipeline import Pipeline\r\n",
        "from sklearn.preprocessing import StandardScaler\r\n",
        "\r\n",
        "from sklearn.linear_model import LinearRegression\r\n",
        "from sklearn.tree import DecisionTreeRegressor\r\n",
        "from sklearn.ensemble import RandomForestRegressor\r\n",
        "\r\n",
        "from sklearn.model_selection import GridSearchCV\r\n",
        "from sklearn.model_selection import RandomizedSearchCV\r\n",
        "from scipy.stats import randint\r\n",
        "\r\n",
        "from sklearn.metrics import mean_squared_error as MSE\r\n",
        "from sklearn.metrics import mean_absolute_error as MAE\r\n",
        "from sklearn.model_selection import cross_val_score\r\n",
        "\r\n",
        "def display_scores(scores):\r\n",
        "    print(\"Scores:\", scores)\r\n",
        "    print(\"Mean:\", scores.mean())\r\n",
        "    print(\"Standard deviation:\", scores.std())"
      ],
      "execution_count": 69,
      "outputs": []
    },
    {
      "cell_type": "code",
      "metadata": {
        "id": "ffNomap9qfSc"
      },
      "source": [
        "# Controle de versão\r\n",
        "\r\n",
        "seed = 1701\r\n",
        "np.random.seed(seed)"
      ],
      "execution_count": 3,
      "outputs": []
    },
    {
      "cell_type": "code",
      "metadata": {
        "id": "Cw6tmnkCq76A"
      },
      "source": [
        "# Configuração das figuras\r\n",
        "\r\n",
        "%matplotlib inline \r\n",
        "\r\n",
        "mpl.rc('axes', labelsize=14) \r\n",
        "mpl.rc('xtick', labelsize=12)\r\n",
        "mpl.rc('ytick', labelsize=12)"
      ],
      "execution_count": 4,
      "outputs": []
    },
    {
      "cell_type": "code",
      "metadata": {
        "id": "QdqU85Ocs1uo"
      },
      "source": [
        "# Ignorar warnings desnecessários (ver SciPy issue #5998)\r\n",
        "\r\n",
        "import warnings\r\n",
        "warnings.filterwarnings(action=\"ignore\", message=\"^internal gelsd\")"
      ],
      "execution_count": 5,
      "outputs": []
    },
    {
      "cell_type": "markdown",
      "metadata": {
        "id": "b_F6PfEEEKyI"
      },
      "source": [
        "## **Load Data**"
      ]
    },
    {
      "cell_type": "code",
      "metadata": {
        "id": "sUFXsdpjENlj"
      },
      "source": [
        "from sklearn.datasets import load_boston"
      ],
      "execution_count": 6,
      "outputs": []
    },
    {
      "cell_type": "code",
      "metadata": {
        "id": "j3xpw_m8fCJw"
      },
      "source": [
        "prep_array = load_boston()"
      ],
      "execution_count": 7,
      "outputs": []
    },
    {
      "cell_type": "code",
      "metadata": {
        "id": "q2X4juSAfigw"
      },
      "source": [
        "prep_df = pd.DataFrame(prep_array['data'], columns = prep_array['feature_names'])\r\n",
        "prep_df['target'] = prep_array['target']"
      ],
      "execution_count": 8,
      "outputs": []
    },
    {
      "cell_type": "markdown",
      "metadata": {
        "id": "Nb2FSH1fuMvF"
      },
      "source": [
        "# **1 - Descrição do conjunto de dados**"
      ]
    },
    {
      "cell_type": "markdown",
      "metadata": {
        "id": "7u1OPp1wx_sN"
      },
      "source": [
        "**The Boston Housing Dataset**\r\n",
        "\r\n",
        "Dataset de origem natural, com 506 observações, que estão desordenadas.\r\n",
        "\r\n",
        "Possui 14 variáveis:\r\n",
        "\r\n",
        "**CRIM** - Taxa de criminalidade per capita por cidade;\r\n",
        "\r\n",
        "**ZN** - Proporção de terrenos residenciais zoneados para lotes com mais de 25.000 pés quadrados;\r\n",
        "\r\n",
        "**INDUS** - Proporção de acres de negócios não varejistas por cidade;\r\n",
        "\r\n",
        "**CHAS** - Charles River (variável dummy - 1: Se área é limitada por rio, 0: se não);\r\n",
        "\r\n",
        "**NOX** - Concentração de óxidos nítricos (partes por 10 milhões);\r\n",
        "\r\n",
        "**RM** - Número médio de quartos por habitação;\r\n",
        "\r\n",
        "**AGE** - Proporção de unidades ocupacionais construidas antes de 1940;\r\n",
        "\r\n",
        "**DIS** - Distância ponderada com relação a 5 centros de empregos em Boston;\r\n",
        "\r\n",
        "**RAD** - Índice de acessibilidade às rodovidas radiais;\r\n",
        "\r\n",
        "**TAX** - Taxa de impostos de propriedades de valor total por 10.000;\r\n",
        "\r\n",
        "**PTRATIO** - proporção de aluno-professor por cidade;\r\n",
        "\r\n",
        "**B** - 1000 * (Bk - 0.63)^2, onde Bk = Proporção de negros por cidade;\r\n",
        "\r\n",
        "**LSTAT** - Porcentagem de status inferior da população;\r\n",
        "\r\n",
        "**MEDV *(target)*** - Valor mediano de casas ocupadas por proprietários em 1.000;\r\n",
        "\r\n",
        "  Neste caso o objetivo é predizer o valor da variável MEDV, que é a variável *target* (Alvo) do banco de dados. Para isso é importante entender cada variável superficialmente e como elas se relacionam."
      ]
    },
    {
      "cell_type": "code",
      "metadata": {
        "colab": {
          "base_uri": "https://localhost:8080/"
        },
        "id": "cQSlYWM7fIFA",
        "outputId": "335d7a43-56c1-4c85-d835-1e5ac8bb60fa"
      },
      "source": [
        "prep_df.info()"
      ],
      "execution_count": 9,
      "outputs": [
        {
          "output_type": "stream",
          "text": [
            "<class 'pandas.core.frame.DataFrame'>\n",
            "RangeIndex: 506 entries, 0 to 505\n",
            "Data columns (total 14 columns):\n",
            " #   Column   Non-Null Count  Dtype  \n",
            "---  ------   --------------  -----  \n",
            " 0   CRIM     506 non-null    float64\n",
            " 1   ZN       506 non-null    float64\n",
            " 2   INDUS    506 non-null    float64\n",
            " 3   CHAS     506 non-null    float64\n",
            " 4   NOX      506 non-null    float64\n",
            " 5   RM       506 non-null    float64\n",
            " 6   AGE      506 non-null    float64\n",
            " 7   DIS      506 non-null    float64\n",
            " 8   RAD      506 non-null    float64\n",
            " 9   TAX      506 non-null    float64\n",
            " 10  PTRATIO  506 non-null    float64\n",
            " 11  B        506 non-null    float64\n",
            " 12  LSTAT    506 non-null    float64\n",
            " 13  target   506 non-null    float64\n",
            "dtypes: float64(14)\n",
            "memory usage: 55.5 KB\n"
          ],
          "name": "stdout"
        }
      ]
    },
    {
      "cell_type": "markdown",
      "metadata": {
        "id": "6xGnYGR73yBK"
      },
      "source": [
        "- Nenhuma observação possui valores faltantes;\r\n",
        "- São todas do tipo *float64*"
      ]
    },
    {
      "cell_type": "code",
      "metadata": {
        "colab": {
          "base_uri": "https://localhost:8080/",
          "height": 0
        },
        "id": "qUB879ahuVm9",
        "outputId": "06d18ee2-fca4-4bfc-ca35-ee2037bd4711"
      },
      "source": [
        "prep_df.head()"
      ],
      "execution_count": 10,
      "outputs": [
        {
          "output_type": "execute_result",
          "data": {
            "text/html": [
              "<div>\n",
              "<style scoped>\n",
              "    .dataframe tbody tr th:only-of-type {\n",
              "        vertical-align: middle;\n",
              "    }\n",
              "\n",
              "    .dataframe tbody tr th {\n",
              "        vertical-align: top;\n",
              "    }\n",
              "\n",
              "    .dataframe thead th {\n",
              "        text-align: right;\n",
              "    }\n",
              "</style>\n",
              "<table border=\"1\" class=\"dataframe\">\n",
              "  <thead>\n",
              "    <tr style=\"text-align: right;\">\n",
              "      <th></th>\n",
              "      <th>CRIM</th>\n",
              "      <th>ZN</th>\n",
              "      <th>INDUS</th>\n",
              "      <th>CHAS</th>\n",
              "      <th>NOX</th>\n",
              "      <th>RM</th>\n",
              "      <th>AGE</th>\n",
              "      <th>DIS</th>\n",
              "      <th>RAD</th>\n",
              "      <th>TAX</th>\n",
              "      <th>PTRATIO</th>\n",
              "      <th>B</th>\n",
              "      <th>LSTAT</th>\n",
              "      <th>target</th>\n",
              "    </tr>\n",
              "  </thead>\n",
              "  <tbody>\n",
              "    <tr>\n",
              "      <th>0</th>\n",
              "      <td>0.00632</td>\n",
              "      <td>18.0</td>\n",
              "      <td>2.31</td>\n",
              "      <td>0.0</td>\n",
              "      <td>0.538</td>\n",
              "      <td>6.575</td>\n",
              "      <td>65.2</td>\n",
              "      <td>4.0900</td>\n",
              "      <td>1.0</td>\n",
              "      <td>296.0</td>\n",
              "      <td>15.3</td>\n",
              "      <td>396.90</td>\n",
              "      <td>4.98</td>\n",
              "      <td>24.0</td>\n",
              "    </tr>\n",
              "    <tr>\n",
              "      <th>1</th>\n",
              "      <td>0.02731</td>\n",
              "      <td>0.0</td>\n",
              "      <td>7.07</td>\n",
              "      <td>0.0</td>\n",
              "      <td>0.469</td>\n",
              "      <td>6.421</td>\n",
              "      <td>78.9</td>\n",
              "      <td>4.9671</td>\n",
              "      <td>2.0</td>\n",
              "      <td>242.0</td>\n",
              "      <td>17.8</td>\n",
              "      <td>396.90</td>\n",
              "      <td>9.14</td>\n",
              "      <td>21.6</td>\n",
              "    </tr>\n",
              "    <tr>\n",
              "      <th>2</th>\n",
              "      <td>0.02729</td>\n",
              "      <td>0.0</td>\n",
              "      <td>7.07</td>\n",
              "      <td>0.0</td>\n",
              "      <td>0.469</td>\n",
              "      <td>7.185</td>\n",
              "      <td>61.1</td>\n",
              "      <td>4.9671</td>\n",
              "      <td>2.0</td>\n",
              "      <td>242.0</td>\n",
              "      <td>17.8</td>\n",
              "      <td>392.83</td>\n",
              "      <td>4.03</td>\n",
              "      <td>34.7</td>\n",
              "    </tr>\n",
              "    <tr>\n",
              "      <th>3</th>\n",
              "      <td>0.03237</td>\n",
              "      <td>0.0</td>\n",
              "      <td>2.18</td>\n",
              "      <td>0.0</td>\n",
              "      <td>0.458</td>\n",
              "      <td>6.998</td>\n",
              "      <td>45.8</td>\n",
              "      <td>6.0622</td>\n",
              "      <td>3.0</td>\n",
              "      <td>222.0</td>\n",
              "      <td>18.7</td>\n",
              "      <td>394.63</td>\n",
              "      <td>2.94</td>\n",
              "      <td>33.4</td>\n",
              "    </tr>\n",
              "    <tr>\n",
              "      <th>4</th>\n",
              "      <td>0.06905</td>\n",
              "      <td>0.0</td>\n",
              "      <td>2.18</td>\n",
              "      <td>0.0</td>\n",
              "      <td>0.458</td>\n",
              "      <td>7.147</td>\n",
              "      <td>54.2</td>\n",
              "      <td>6.0622</td>\n",
              "      <td>3.0</td>\n",
              "      <td>222.0</td>\n",
              "      <td>18.7</td>\n",
              "      <td>396.90</td>\n",
              "      <td>5.33</td>\n",
              "      <td>36.2</td>\n",
              "    </tr>\n",
              "  </tbody>\n",
              "</table>\n",
              "</div>"
            ],
            "text/plain": [
              "      CRIM    ZN  INDUS  CHAS    NOX  ...    TAX  PTRATIO       B  LSTAT  target\n",
              "0  0.00632  18.0   2.31   0.0  0.538  ...  296.0     15.3  396.90   4.98    24.0\n",
              "1  0.02731   0.0   7.07   0.0  0.469  ...  242.0     17.8  396.90   9.14    21.6\n",
              "2  0.02729   0.0   7.07   0.0  0.469  ...  242.0     17.8  392.83   4.03    34.7\n",
              "3  0.03237   0.0   2.18   0.0  0.458  ...  222.0     18.7  394.63   2.94    33.4\n",
              "4  0.06905   0.0   2.18   0.0  0.458  ...  222.0     18.7  396.90   5.33    36.2\n",
              "\n",
              "[5 rows x 14 columns]"
            ]
          },
          "metadata": {
            "tags": []
          },
          "execution_count": 10
        }
      ]
    },
    {
      "cell_type": "markdown",
      "metadata": {
        "id": "FLNfyUGsLGFR"
      },
      "source": [
        "- Observasse que as cinco primeiras observações possuem a variável CHAS com valor 0, representando que não é uma área limitada por rio, vale observar a porcentagem de observações desse tipo "
      ]
    },
    {
      "cell_type": "code",
      "metadata": {
        "colab": {
          "base_uri": "https://localhost:8080/"
        },
        "id": "aSC_537GLXbq",
        "outputId": "3c9528f3-6826-40f7-d001-688ed8158f47"
      },
      "source": [
        "prep_df['CHAS'].value_counts()"
      ],
      "execution_count": 11,
      "outputs": [
        {
          "output_type": "execute_result",
          "data": {
            "text/plain": [
              "0.0    471\n",
              "1.0     35\n",
              "Name: CHAS, dtype: int64"
            ]
          },
          "metadata": {
            "tags": []
          },
          "execution_count": 11
        }
      ]
    },
    {
      "cell_type": "markdown",
      "metadata": {
        "id": "F37QT__BLjD-"
      },
      "source": [
        "- Como imaginado há uma grande maioria de áreas do tipo 0, em relação a apenas 35 observações do tipo 1, dizendo que esse tipo de área é mais incomum."
      ]
    },
    {
      "cell_type": "code",
      "metadata": {
        "colab": {
          "base_uri": "https://localhost:8080/",
          "height": 0
        },
        "id": "BV02mo4mFQCa",
        "outputId": "5fe2621a-c43a-4bb6-9342-a844a7e6bf51"
      },
      "source": [
        "prep_df.describe()"
      ],
      "execution_count": 12,
      "outputs": [
        {
          "output_type": "execute_result",
          "data": {
            "text/html": [
              "<div>\n",
              "<style scoped>\n",
              "    .dataframe tbody tr th:only-of-type {\n",
              "        vertical-align: middle;\n",
              "    }\n",
              "\n",
              "    .dataframe tbody tr th {\n",
              "        vertical-align: top;\n",
              "    }\n",
              "\n",
              "    .dataframe thead th {\n",
              "        text-align: right;\n",
              "    }\n",
              "</style>\n",
              "<table border=\"1\" class=\"dataframe\">\n",
              "  <thead>\n",
              "    <tr style=\"text-align: right;\">\n",
              "      <th></th>\n",
              "      <th>CRIM</th>\n",
              "      <th>ZN</th>\n",
              "      <th>INDUS</th>\n",
              "      <th>CHAS</th>\n",
              "      <th>NOX</th>\n",
              "      <th>RM</th>\n",
              "      <th>AGE</th>\n",
              "      <th>DIS</th>\n",
              "      <th>RAD</th>\n",
              "      <th>TAX</th>\n",
              "      <th>PTRATIO</th>\n",
              "      <th>B</th>\n",
              "      <th>LSTAT</th>\n",
              "      <th>target</th>\n",
              "    </tr>\n",
              "  </thead>\n",
              "  <tbody>\n",
              "    <tr>\n",
              "      <th>count</th>\n",
              "      <td>506.000000</td>\n",
              "      <td>506.000000</td>\n",
              "      <td>506.000000</td>\n",
              "      <td>506.000000</td>\n",
              "      <td>506.000000</td>\n",
              "      <td>506.000000</td>\n",
              "      <td>506.000000</td>\n",
              "      <td>506.000000</td>\n",
              "      <td>506.000000</td>\n",
              "      <td>506.000000</td>\n",
              "      <td>506.000000</td>\n",
              "      <td>506.000000</td>\n",
              "      <td>506.000000</td>\n",
              "      <td>506.000000</td>\n",
              "    </tr>\n",
              "    <tr>\n",
              "      <th>mean</th>\n",
              "      <td>3.613524</td>\n",
              "      <td>11.363636</td>\n",
              "      <td>11.136779</td>\n",
              "      <td>0.069170</td>\n",
              "      <td>0.554695</td>\n",
              "      <td>6.284634</td>\n",
              "      <td>68.574901</td>\n",
              "      <td>3.795043</td>\n",
              "      <td>9.549407</td>\n",
              "      <td>408.237154</td>\n",
              "      <td>18.455534</td>\n",
              "      <td>356.674032</td>\n",
              "      <td>12.653063</td>\n",
              "      <td>22.532806</td>\n",
              "    </tr>\n",
              "    <tr>\n",
              "      <th>std</th>\n",
              "      <td>8.601545</td>\n",
              "      <td>23.322453</td>\n",
              "      <td>6.860353</td>\n",
              "      <td>0.253994</td>\n",
              "      <td>0.115878</td>\n",
              "      <td>0.702617</td>\n",
              "      <td>28.148861</td>\n",
              "      <td>2.105710</td>\n",
              "      <td>8.707259</td>\n",
              "      <td>168.537116</td>\n",
              "      <td>2.164946</td>\n",
              "      <td>91.294864</td>\n",
              "      <td>7.141062</td>\n",
              "      <td>9.197104</td>\n",
              "    </tr>\n",
              "    <tr>\n",
              "      <th>min</th>\n",
              "      <td>0.006320</td>\n",
              "      <td>0.000000</td>\n",
              "      <td>0.460000</td>\n",
              "      <td>0.000000</td>\n",
              "      <td>0.385000</td>\n",
              "      <td>3.561000</td>\n",
              "      <td>2.900000</td>\n",
              "      <td>1.129600</td>\n",
              "      <td>1.000000</td>\n",
              "      <td>187.000000</td>\n",
              "      <td>12.600000</td>\n",
              "      <td>0.320000</td>\n",
              "      <td>1.730000</td>\n",
              "      <td>5.000000</td>\n",
              "    </tr>\n",
              "    <tr>\n",
              "      <th>25%</th>\n",
              "      <td>0.082045</td>\n",
              "      <td>0.000000</td>\n",
              "      <td>5.190000</td>\n",
              "      <td>0.000000</td>\n",
              "      <td>0.449000</td>\n",
              "      <td>5.885500</td>\n",
              "      <td>45.025000</td>\n",
              "      <td>2.100175</td>\n",
              "      <td>4.000000</td>\n",
              "      <td>279.000000</td>\n",
              "      <td>17.400000</td>\n",
              "      <td>375.377500</td>\n",
              "      <td>6.950000</td>\n",
              "      <td>17.025000</td>\n",
              "    </tr>\n",
              "    <tr>\n",
              "      <th>50%</th>\n",
              "      <td>0.256510</td>\n",
              "      <td>0.000000</td>\n",
              "      <td>9.690000</td>\n",
              "      <td>0.000000</td>\n",
              "      <td>0.538000</td>\n",
              "      <td>6.208500</td>\n",
              "      <td>77.500000</td>\n",
              "      <td>3.207450</td>\n",
              "      <td>5.000000</td>\n",
              "      <td>330.000000</td>\n",
              "      <td>19.050000</td>\n",
              "      <td>391.440000</td>\n",
              "      <td>11.360000</td>\n",
              "      <td>21.200000</td>\n",
              "    </tr>\n",
              "    <tr>\n",
              "      <th>75%</th>\n",
              "      <td>3.677083</td>\n",
              "      <td>12.500000</td>\n",
              "      <td>18.100000</td>\n",
              "      <td>0.000000</td>\n",
              "      <td>0.624000</td>\n",
              "      <td>6.623500</td>\n",
              "      <td>94.075000</td>\n",
              "      <td>5.188425</td>\n",
              "      <td>24.000000</td>\n",
              "      <td>666.000000</td>\n",
              "      <td>20.200000</td>\n",
              "      <td>396.225000</td>\n",
              "      <td>16.955000</td>\n",
              "      <td>25.000000</td>\n",
              "    </tr>\n",
              "    <tr>\n",
              "      <th>max</th>\n",
              "      <td>88.976200</td>\n",
              "      <td>100.000000</td>\n",
              "      <td>27.740000</td>\n",
              "      <td>1.000000</td>\n",
              "      <td>0.871000</td>\n",
              "      <td>8.780000</td>\n",
              "      <td>100.000000</td>\n",
              "      <td>12.126500</td>\n",
              "      <td>24.000000</td>\n",
              "      <td>711.000000</td>\n",
              "      <td>22.000000</td>\n",
              "      <td>396.900000</td>\n",
              "      <td>37.970000</td>\n",
              "      <td>50.000000</td>\n",
              "    </tr>\n",
              "  </tbody>\n",
              "</table>\n",
              "</div>"
            ],
            "text/plain": [
              "             CRIM          ZN       INDUS  ...           B       LSTAT      target\n",
              "count  506.000000  506.000000  506.000000  ...  506.000000  506.000000  506.000000\n",
              "mean     3.613524   11.363636   11.136779  ...  356.674032   12.653063   22.532806\n",
              "std      8.601545   23.322453    6.860353  ...   91.294864    7.141062    9.197104\n",
              "min      0.006320    0.000000    0.460000  ...    0.320000    1.730000    5.000000\n",
              "25%      0.082045    0.000000    5.190000  ...  375.377500    6.950000   17.025000\n",
              "50%      0.256510    0.000000    9.690000  ...  391.440000   11.360000   21.200000\n",
              "75%      3.677083   12.500000   18.100000  ...  396.225000   16.955000   25.000000\n",
              "max     88.976200  100.000000   27.740000  ...  396.900000   37.970000   50.000000\n",
              "\n",
              "[8 rows x 14 columns]"
            ]
          },
          "metadata": {
            "tags": []
          },
          "execution_count": 12
        }
      ]
    },
    {
      "cell_type": "code",
      "metadata": {
        "id": "ZrrgbTaMuZ8I",
        "colab": {
          "base_uri": "https://localhost:8080/",
          "height": 0
        },
        "outputId": "d136e546-9792-44bd-dc14-72b5278b4114"
      },
      "source": [
        "prep_df.hist(bins  = 50, figsize = (20, 15))\r\n",
        "plt.show()"
      ],
      "execution_count": 13,
      "outputs": [
        {
          "output_type": "display_data",
          "data": {
            "image/png": "[encoded data removed]",
            "text/plain": [
              "<Figure size 1440x1080 with 16 Axes>"
            ]
          },
          "metadata": {
            "tags": [],
            "needs_background": "light"
          }
        }
      ]
    },
    {
      "cell_type": "markdown",
      "metadata": {
        "id": "oOEWA1coS9JE"
      },
      "source": [
        "- Como comentado em nota no [site](http://www.cs.toronto.edu/~delve/data/boston/bostonDetail.html) a variável 14 (MEDV), que é o alvo, possui uma grande quantidade de observações com valor 50, o que indicaria que há um agrupamento nos casos com valor maior de 50."
      ]
    },
    {
      "cell_type": "markdown",
      "metadata": {
        "id": "-RjlEe7Yupyq"
      },
      "source": [
        "# **2 - Separação do conjunto em treino e teste**"
      ]
    },
    {
      "cell_type": "markdown",
      "metadata": {
        "id": "9nRUq04FWdUf"
      },
      "source": [
        "- Como visto no caso do *California Housing* para realizar uma separação mais adequada precisamos estratificar a variável alvo, considerando a importância de possuir um número mínimo de observações para cada categoria, tanto no conjunto de treino como no de testes.\r\n",
        "- Nesse caso será uma estratificação de 10 em 10 com 5 estratos.\r\n",
        "\r\n"
      ]
    },
    {
      "cell_type": "code",
      "metadata": {
        "id": "EPRWi9cIuw2A",
        "colab": {
          "base_uri": "https://localhost:8080/",
          "height": 285
        },
        "outputId": "7c8cd4e3-ea40-4688-c601-190577b90267"
      },
      "source": [
        "prep_df['target_cat'] = pd.cut(prep_df['target'], bins = [0., 10., 20., 30., 40., np.inf], labels = [1, 2, 3, 4, 5]) \r\n",
        "\r\n",
        "prep_df['target_cat'].hist()"
      ],
      "execution_count": 14,
      "outputs": [
        {
          "output_type": "execute_result",
          "data": {
            "text/plain": [
              "<matplotlib.axes._subplots.AxesSubplot at 0x7fb45f57cd68>"
            ]
          },
          "metadata": {
            "tags": []
          },
          "execution_count": 14
        },
        {
          "output_type": "display_data",
          "data": {
            "image/png": "[encoded data removed]",
            "text/plain": [
              "<Figure size 432x288 with 1 Axes>"
            ]
          },
          "metadata": {
            "tags": [],
            "needs_background": "light"
          }
        }
      ]
    },
    {
      "cell_type": "code",
      "metadata": {
        "colab": {
          "base_uri": "https://localhost:8080/"
        },
        "id": "9EywJz6rYdQ5",
        "outputId": "40021a25-47c9-46f8-e871-282344ddb059"
      },
      "source": [
        "prep_df['target_cat'].value_counts()"
      ],
      "execution_count": 15,
      "outputs": [
        {
          "output_type": "execute_result",
          "data": {
            "text/plain": [
              "3    207\n",
              "2    191\n",
              "4     53\n",
              "5     31\n",
              "1     24\n",
              "Name: target_cat, dtype: int64"
            ]
          },
          "metadata": {
            "tags": []
          },
          "execution_count": 15
        }
      ]
    },
    {
      "cell_type": "markdown",
      "metadata": {
        "id": "wKxhoOorY9qp"
      },
      "source": [
        "- Realizando a amostragem estratificada com base na nova variável criada, assim como no exemplo do *California Housing*"
      ]
    },
    {
      "cell_type": "code",
      "metadata": {
        "id": "6MIkQ6-iYqqE"
      },
      "source": [
        "split = StratifiedShuffleSplit(n_splits=1, test_size=0.2, random_state=seed)\r\n",
        "\r\n",
        "for train_index, test_index in split.split(prep_df, prep_df['target_cat']):\r\n",
        "    strat_train_set = prep_df.loc[train_index]\r\n",
        "    strat_test_set = prep_df.loc[test_index]"
      ],
      "execution_count": 16,
      "outputs": []
    },
    {
      "cell_type": "markdown",
      "metadata": {
        "id": "IDFG_g2PZYCa"
      },
      "source": [
        "- Testando se a separação está com as categorias bem representadas nos dois conjuntos"
      ]
    },
    {
      "cell_type": "code",
      "metadata": {
        "colab": {
          "base_uri": "https://localhost:8080/"
        },
        "id": "P4uWGlDzY8RD",
        "outputId": "24311191-7364-4fbe-99d8-2e7f97d4a564"
      },
      "source": [
        "strat_test_set['target_cat'].value_counts() / len(strat_test_set)"
      ],
      "execution_count": 17,
      "outputs": [
        {
          "output_type": "execute_result",
          "data": {
            "text/plain": [
              "3    0.411765\n",
              "2    0.372549\n",
              "4    0.107843\n",
              "5    0.058824\n",
              "1    0.049020\n",
              "Name: target_cat, dtype: float64"
            ]
          },
          "metadata": {
            "tags": []
          },
          "execution_count": 17
        }
      ]
    },
    {
      "cell_type": "code",
      "metadata": {
        "colab": {
          "base_uri": "https://localhost:8080/"
        },
        "id": "xjIZE-tCZkOd",
        "outputId": "db56b3e9-e851-45be-fad7-5acdd661ac56"
      },
      "source": [
        "prep_df['target_cat'].value_counts() / len(prep_df)"
      ],
      "execution_count": 18,
      "outputs": [
        {
          "output_type": "execute_result",
          "data": {
            "text/plain": [
              "3    0.409091\n",
              "2    0.377470\n",
              "4    0.104743\n",
              "5    0.061265\n",
              "1    0.047431\n",
              "Name: target_cat, dtype: float64"
            ]
          },
          "metadata": {
            "tags": []
          },
          "execution_count": 18
        }
      ]
    },
    {
      "cell_type": "markdown",
      "metadata": {
        "id": "y4CQkkIzZ37W"
      },
      "source": [
        "- Remover variável *target_cat*, já que é redundante com *target* e foi criada apenas para realizar a separação do conjunto de treino e teste."
      ]
    },
    {
      "cell_type": "code",
      "metadata": {
        "id": "o-f6r9kYaNcb"
      },
      "source": [
        "for set_ in (strat_train_set, strat_test_set):\r\n",
        "    set_.drop(\"target_cat\", axis=1, inplace=True)"
      ],
      "execution_count": 19,
      "outputs": []
    },
    {
      "cell_type": "markdown",
      "metadata": {
        "id": "qK-tMpWJu0lE"
      },
      "source": [
        "# **3 - Visualização do conjunto de dados**"
      ]
    },
    {
      "cell_type": "markdown",
      "metadata": {
        "id": "VEz317B6bV7l"
      },
      "source": [
        "- Realizar uma análise exploratória dos dados, visualizando apenas o conjunto de treinos."
      ]
    },
    {
      "cell_type": "code",
      "metadata": {
        "id": "dYHvcpuVu7p0"
      },
      "source": [
        "vis_df = strat_train_set.copy()"
      ],
      "execution_count": 20,
      "outputs": []
    },
    {
      "cell_type": "markdown",
      "metadata": {
        "id": "lQWIyAn4xQqH"
      },
      "source": [
        "- Visualizar correlações"
      ]
    },
    {
      "cell_type": "code",
      "metadata": {
        "id": "Poy9TPfJblH_",
        "colab": {
          "base_uri": "https://localhost:8080/",
          "height": 0
        },
        "outputId": "32d64d82-4c1f-473b-b502-e161c18806af"
      },
      "source": [
        "corr_matrix = vis_df.corr()\r\n",
        "\r\n",
        "corr_matrix"
      ],
      "execution_count": 21,
      "outputs": [
        {
          "output_type": "execute_result",
          "data": {
            "text/html": [
              "<div>\n",
              "<style scoped>\n",
              "    .dataframe tbody tr th:only-of-type {\n",
              "        vertical-align: middle;\n",
              "    }\n",
              "\n",
              "    .dataframe tbody tr th {\n",
              "        vertical-align: top;\n",
              "    }\n",
              "\n",
              "    .dataframe thead th {\n",
              "        text-align: right;\n",
              "    }\n",
              "</style>\n",
              "<table border=\"1\" class=\"dataframe\">\n",
              "  <thead>\n",
              "    <tr style=\"text-align: right;\">\n",
              "      <th></th>\n",
              "      <th>CRIM</th>\n",
              "      <th>ZN</th>\n",
              "      <th>INDUS</th>\n",
              "      <th>CHAS</th>\n",
              "      <th>NOX</th>\n",
              "      <th>RM</th>\n",
              "      <th>AGE</th>\n",
              "      <th>DIS</th>\n",
              "      <th>RAD</th>\n",
              "      <th>TAX</th>\n",
              "      <th>PTRATIO</th>\n",
              "      <th>B</th>\n",
              "      <th>LSTAT</th>\n",
              "      <th>target</th>\n",
              "    </tr>\n",
              "  </thead>\n",
              "  <tbody>\n",
              "    <tr>\n",
              "      <th>CRIM</th>\n",
              "      <td>1.000000</td>\n",
              "      <td>-0.211783</td>\n",
              "      <td>0.416506</td>\n",
              "      <td>-0.055972</td>\n",
              "      <td>0.440890</td>\n",
              "      <td>-0.257658</td>\n",
              "      <td>0.368513</td>\n",
              "      <td>-0.384154</td>\n",
              "      <td>0.639033</td>\n",
              "      <td>0.594542</td>\n",
              "      <td>0.294674</td>\n",
              "      <td>-0.433506</td>\n",
              "      <td>0.484501</td>\n",
              "      <td>-0.397069</td>\n",
              "    </tr>\n",
              "    <tr>\n",
              "      <th>ZN</th>\n",
              "      <td>-0.211783</td>\n",
              "      <td>1.000000</td>\n",
              "      <td>-0.551066</td>\n",
              "      <td>-0.035605</td>\n",
              "      <td>-0.527401</td>\n",
              "      <td>0.309390</td>\n",
              "      <td>-0.586264</td>\n",
              "      <td>0.683803</td>\n",
              "      <td>-0.326117</td>\n",
              "      <td>-0.332589</td>\n",
              "      <td>-0.380586</td>\n",
              "      <td>0.179447</td>\n",
              "      <td>-0.417218</td>\n",
              "      <td>0.351327</td>\n",
              "    </tr>\n",
              "    <tr>\n",
              "      <th>INDUS</th>\n",
              "      <td>0.416506</td>\n",
              "      <td>-0.551066</td>\n",
              "      <td>1.000000</td>\n",
              "      <td>0.058169</td>\n",
              "      <td>0.763099</td>\n",
              "      <td>-0.392814</td>\n",
              "      <td>0.653243</td>\n",
              "      <td>-0.712990</td>\n",
              "      <td>0.598210</td>\n",
              "      <td>0.737439</td>\n",
              "      <td>0.408599</td>\n",
              "      <td>-0.351307</td>\n",
              "      <td>0.590205</td>\n",
              "      <td>-0.479156</td>\n",
              "    </tr>\n",
              "    <tr>\n",
              "      <th>CHAS</th>\n",
              "      <td>-0.055972</td>\n",
              "      <td>-0.035605</td>\n",
              "      <td>0.058169</td>\n",
              "      <td>1.000000</td>\n",
              "      <td>0.090511</td>\n",
              "      <td>0.095891</td>\n",
              "      <td>0.095677</td>\n",
              "      <td>-0.101130</td>\n",
              "      <td>0.007521</td>\n",
              "      <td>-0.031770</td>\n",
              "      <td>-0.105039</td>\n",
              "      <td>0.077468</td>\n",
              "      <td>-0.056735</td>\n",
              "      <td>0.183870</td>\n",
              "    </tr>\n",
              "    <tr>\n",
              "      <th>NOX</th>\n",
              "      <td>0.440890</td>\n",
              "      <td>-0.527401</td>\n",
              "      <td>0.763099</td>\n",
              "      <td>0.090511</td>\n",
              "      <td>1.000000</td>\n",
              "      <td>-0.288491</td>\n",
              "      <td>0.743256</td>\n",
              "      <td>-0.769801</td>\n",
              "      <td>0.608878</td>\n",
              "      <td>0.666281</td>\n",
              "      <td>0.193757</td>\n",
              "      <td>-0.359656</td>\n",
              "      <td>0.592493</td>\n",
              "      <td>-0.409592</td>\n",
              "    </tr>\n",
              "    <tr>\n",
              "      <th>RM</th>\n",
              "      <td>-0.257658</td>\n",
              "      <td>0.309390</td>\n",
              "      <td>-0.392814</td>\n",
              "      <td>0.095891</td>\n",
              "      <td>-0.288491</td>\n",
              "      <td>1.000000</td>\n",
              "      <td>-0.218106</td>\n",
              "      <td>0.171662</td>\n",
              "      <td>-0.184525</td>\n",
              "      <td>-0.273973</td>\n",
              "      <td>-0.350974</td>\n",
              "      <td>0.144162</td>\n",
              "      <td>-0.610893</td>\n",
              "      <td>0.705011</td>\n",
              "    </tr>\n",
              "    <tr>\n",
              "      <th>AGE</th>\n",
              "      <td>0.368513</td>\n",
              "      <td>-0.586264</td>\n",
              "      <td>0.653243</td>\n",
              "      <td>0.095677</td>\n",
              "      <td>0.743256</td>\n",
              "      <td>-0.218106</td>\n",
              "      <td>1.000000</td>\n",
              "      <td>-0.746166</td>\n",
              "      <td>0.454100</td>\n",
              "      <td>0.515032</td>\n",
              "      <td>0.255199</td>\n",
              "      <td>-0.268357</td>\n",
              "      <td>0.599998</td>\n",
              "      <td>-0.352335</td>\n",
              "    </tr>\n",
              "    <tr>\n",
              "      <th>DIS</th>\n",
              "      <td>-0.384154</td>\n",
              "      <td>0.683803</td>\n",
              "      <td>-0.712990</td>\n",
              "      <td>-0.101130</td>\n",
              "      <td>-0.769801</td>\n",
              "      <td>0.171662</td>\n",
              "      <td>-0.746166</td>\n",
              "      <td>1.000000</td>\n",
              "      <td>-0.493245</td>\n",
              "      <td>-0.535445</td>\n",
              "      <td>-0.234762</td>\n",
              "      <td>0.287612</td>\n",
              "      <td>-0.476810</td>\n",
              "      <td>0.219114</td>\n",
              "    </tr>\n",
              "    <tr>\n",
              "      <th>RAD</th>\n",
              "      <td>0.639033</td>\n",
              "      <td>-0.326117</td>\n",
              "      <td>0.598210</td>\n",
              "      <td>0.007521</td>\n",
              "      <td>0.608878</td>\n",
              "      <td>-0.184525</td>\n",
              "      <td>0.454100</td>\n",
              "      <td>-0.493245</td>\n",
              "      <td>1.000000</td>\n",
              "      <td>0.907771</td>\n",
              "      <td>0.459916</td>\n",
              "      <td>-0.453157</td>\n",
              "      <td>0.467966</td>\n",
              "      <td>-0.351144</td>\n",
              "    </tr>\n",
              "    <tr>\n",
              "      <th>TAX</th>\n",
              "      <td>0.594542</td>\n",
              "      <td>-0.332589</td>\n",
              "      <td>0.737439</td>\n",
              "      <td>-0.031770</td>\n",
              "      <td>0.666281</td>\n",
              "      <td>-0.273973</td>\n",
              "      <td>0.515032</td>\n",
              "      <td>-0.535445</td>\n",
              "      <td>0.907771</td>\n",
              "      <td>1.000000</td>\n",
              "      <td>0.476360</td>\n",
              "      <td>-0.444218</td>\n",
              "      <td>0.525590</td>\n",
              "      <td>-0.446243</td>\n",
              "    </tr>\n",
              "    <tr>\n",
              "      <th>PTRATIO</th>\n",
              "      <td>0.294674</td>\n",
              "      <td>-0.380586</td>\n",
              "      <td>0.408599</td>\n",
              "      <td>-0.105039</td>\n",
              "      <td>0.193757</td>\n",
              "      <td>-0.350974</td>\n",
              "      <td>0.255199</td>\n",
              "      <td>-0.234762</td>\n",
              "      <td>0.459916</td>\n",
              "      <td>0.476360</td>\n",
              "      <td>1.000000</td>\n",
              "      <td>-0.189796</td>\n",
              "      <td>0.347451</td>\n",
              "      <td>-0.496627</td>\n",
              "    </tr>\n",
              "    <tr>\n",
              "      <th>B</th>\n",
              "      <td>-0.433506</td>\n",
              "      <td>0.179447</td>\n",
              "      <td>-0.351307</td>\n",
              "      <td>0.077468</td>\n",
              "      <td>-0.359656</td>\n",
              "      <td>0.144162</td>\n",
              "      <td>-0.268357</td>\n",
              "      <td>0.287612</td>\n",
              "      <td>-0.453157</td>\n",
              "      <td>-0.444218</td>\n",
              "      <td>-0.189796</td>\n",
              "      <td>1.000000</td>\n",
              "      <td>-0.372781</td>\n",
              "      <td>0.320832</td>\n",
              "    </tr>\n",
              "    <tr>\n",
              "      <th>LSTAT</th>\n",
              "      <td>0.484501</td>\n",
              "      <td>-0.417218</td>\n",
              "      <td>0.590205</td>\n",
              "      <td>-0.056735</td>\n",
              "      <td>0.592493</td>\n",
              "      <td>-0.610893</td>\n",
              "      <td>0.599998</td>\n",
              "      <td>-0.476810</td>\n",
              "      <td>0.467966</td>\n",
              "      <td>0.525590</td>\n",
              "      <td>0.347451</td>\n",
              "      <td>-0.372781</td>\n",
              "      <td>1.000000</td>\n",
              "      <td>-0.730616</td>\n",
              "    </tr>\n",
              "    <tr>\n",
              "      <th>target</th>\n",
              "      <td>-0.397069</td>\n",
              "      <td>0.351327</td>\n",
              "      <td>-0.479156</td>\n",
              "      <td>0.183870</td>\n",
              "      <td>-0.409592</td>\n",
              "      <td>0.705011</td>\n",
              "      <td>-0.352335</td>\n",
              "      <td>0.219114</td>\n",
              "      <td>-0.351144</td>\n",
              "      <td>-0.446243</td>\n",
              "      <td>-0.496627</td>\n",
              "      <td>0.320832</td>\n",
              "      <td>-0.730616</td>\n",
              "      <td>1.000000</td>\n",
              "    </tr>\n",
              "  </tbody>\n",
              "</table>\n",
              "</div>"
            ],
            "text/plain": [
              "             CRIM        ZN     INDUS  ...         B     LSTAT    target\n",
              "CRIM     1.000000 -0.211783  0.416506  ... -0.433506  0.484501 -0.397069\n",
              "ZN      -0.211783  1.000000 -0.551066  ...  0.179447 -0.417218  0.351327\n",
              "INDUS    0.416506 -0.551066  1.000000  ... -0.351307  0.590205 -0.479156\n",
              "CHAS    -0.055972 -0.035605  0.058169  ...  0.077468 -0.056735  0.183870\n",
              "NOX      0.440890 -0.527401  0.763099  ... -0.359656  0.592493 -0.409592\n",
              "RM      -0.257658  0.309390 -0.392814  ...  0.144162 -0.610893  0.705011\n",
              "AGE      0.368513 -0.586264  0.653243  ... -0.268357  0.599998 -0.352335\n",
              "DIS     -0.384154  0.683803 -0.712990  ...  0.287612 -0.476810  0.219114\n",
              "RAD      0.639033 -0.326117  0.598210  ... -0.453157  0.467966 -0.351144\n",
              "TAX      0.594542 -0.332589  0.737439  ... -0.444218  0.525590 -0.446243\n",
              "PTRATIO  0.294674 -0.380586  0.408599  ... -0.189796  0.347451 -0.496627\n",
              "B       -0.433506  0.179447 -0.351307  ...  1.000000 -0.372781  0.320832\n",
              "LSTAT    0.484501 -0.417218  0.590205  ... -0.372781  1.000000 -0.730616\n",
              "target  -0.397069  0.351327 -0.479156  ...  0.320832 -0.730616  1.000000\n",
              "\n",
              "[14 rows x 14 columns]"
            ]
          },
          "metadata": {
            "tags": []
          },
          "execution_count": 21
        }
      ]
    },
    {
      "cell_type": "code",
      "metadata": {
        "colab": {
          "base_uri": "https://localhost:8080/"
        },
        "id": "X7ItJpiCxeFZ",
        "outputId": "9bb6093a-ba5c-4a70-8085-db8e959de8d0"
      },
      "source": [
        "corr_matrix['target'].sort_values(ascending=False)"
      ],
      "execution_count": 22,
      "outputs": [
        {
          "output_type": "execute_result",
          "data": {
            "text/plain": [
              "target     1.000000\n",
              "RM         0.705011\n",
              "ZN         0.351327\n",
              "B          0.320832\n",
              "DIS        0.219114\n",
              "CHAS       0.183870\n",
              "RAD       -0.351144\n",
              "AGE       -0.352335\n",
              "CRIM      -0.397069\n",
              "NOX       -0.409592\n",
              "TAX       -0.446243\n",
              "INDUS     -0.479156\n",
              "PTRATIO   -0.496627\n",
              "LSTAT     -0.730616\n",
              "Name: target, dtype: float64"
            ]
          },
          "metadata": {
            "tags": []
          },
          "execution_count": 22
        }
      ]
    },
    {
      "cell_type": "markdown",
      "metadata": {
        "id": "O_l_m3hlySry"
      },
      "source": [
        "- Plotar uma matriz de correlação comparando a variável alvo, com as três com maior relação, vale lembrar que uma alta correlação é um valor grande de módulo, fazendo com que as 3 features que mais afetam em ordem são: LSTAT, RM e PTRATIO, sendo a primeira e terceira com uma relação negativa, que representa uma relação inversamente proporcional."
      ]
    },
    {
      "cell_type": "code",
      "metadata": {
        "colab": {
          "base_uri": "https://localhost:8080/",
          "height": 0
        },
        "id": "qmqRh3WcyC-l",
        "outputId": "4bea949a-2435-4423-fcee-b64cb0ac5048"
      },
      "source": [
        "attributes = ['target', 'LSTAT', 'RM', 'PTRATIO']\r\n",
        "\r\n",
        "scatter_matrix(vis_df[attributes], figsize=(12, 8))"
      ],
      "execution_count": 23,
      "outputs": [
        {
          "output_type": "execute_result",
          "data": {
            "text/plain": [
              "array([[<matplotlib.axes._subplots.AxesSubplot object at 0x7fb45ef8c240>,\n",
              "        <matplotlib.axes._subplots.AxesSubplot object at 0x7fb45e4a72b0>,\n",
              "        <matplotlib.axes._subplots.AxesSubplot object at 0x7fb45e4d9518>,\n",
              "        <matplotlib.axes._subplots.AxesSubplot object at 0x7fb45e48d780>],\n",
              "       [<matplotlib.axes._subplots.AxesSubplot object at 0x7fb45e4409e8>,\n",
              "        <matplotlib.axes._subplots.AxesSubplot object at 0x7fb45e3f3c50>,\n",
              "        <matplotlib.axes._subplots.AxesSubplot object at 0x7fb45e3b01d0>,\n",
              "        <matplotlib.axes._subplots.AxesSubplot object at 0x7fb45e3e2518>],\n",
              "       [<matplotlib.axes._subplots.AxesSubplot object at 0x7fb45e3e2588>,\n",
              "        <matplotlib.axes._subplots.AxesSubplot object at 0x7fb45e346c50>,\n",
              "        <matplotlib.axes._subplots.AxesSubplot object at 0x7fb45e2f8fd0>,\n",
              "        <matplotlib.axes._subplots.AxesSubplot object at 0x7fb45e2b7390>],\n",
              "       [<matplotlib.axes._subplots.AxesSubplot object at 0x7fb45e26b710>,\n",
              "        <matplotlib.axes._subplots.AxesSubplot object at 0x7fb45e29ca90>,\n",
              "        <matplotlib.axes._subplots.AxesSubplot object at 0x7fb45e24fe10>,\n",
              "        <matplotlib.axes._subplots.AxesSubplot object at 0x7fb45e20e1d0>]],\n",
              "      dtype=object)"
            ]
          },
          "metadata": {
            "tags": []
          },
          "execution_count": 23
        },
        {
          "output_type": "display_data",
          "data": {
            "image/png": "[encoded data removed]",
            "text/plain": [
              "<Figure size 864x576 with 16 Axes>"
            ]
          },
          "metadata": {
            "tags": [],
            "needs_background": "light"
          }
        }
      ]
    },
    {
      "cell_type": "markdown",
      "metadata": {
        "id": "W1j9d9Xm0Fhv"
      },
      "source": [
        "- Pode-se observar o acumulo de pontos com o valor 50 na variável target, reforçando a possibilidade de um valor máximo, onde qualquer valor acima é colocado naquela clássificação"
      ]
    },
    {
      "cell_type": "code",
      "metadata": {
        "colab": {
          "base_uri": "https://localhost:8080/",
          "height": 0
        },
        "id": "qHDnvX490V8P",
        "outputId": "5db92011-2110-41e5-abc7-a6f49613958d"
      },
      "source": [
        "vis_df.boxplot(column = 'CRIM')"
      ],
      "execution_count": 24,
      "outputs": [
        {
          "output_type": "execute_result",
          "data": {
            "text/plain": [
              "<matplotlib.axes._subplots.AxesSubplot at 0x7fb45e042048>"
            ]
          },
          "metadata": {
            "tags": []
          },
          "execution_count": 24
        },
        {
          "output_type": "display_data",
          "data": {
            "image/png": "[encoded data removed]",
            "text/plain": [
              "<Figure size 432x288 with 1 Axes>"
            ]
          },
          "metadata": {
            "tags": [],
            "needs_background": "light"
          }
        }
      ]
    },
    {
      "cell_type": "markdown",
      "metadata": {
        "id": "X5PVh-O4AEBa"
      },
      "source": [
        "- Taxa de criminalidade per capita é em sua maioria baixa com alguns outliers\r\n",
        "- Maioria das observações tem um valor próximo de zero, e mais de 75% tem menos de 10.\r\n",
        "- Valor máximo: 88.9%\r\n",
        "- Valor mínimo: 0.006%"
      ]
    },
    {
      "cell_type": "code",
      "metadata": {
        "colab": {
          "base_uri": "https://localhost:8080/",
          "height": 0
        },
        "id": "M0CMkGXK96Uo",
        "outputId": "e95e88e2-1670-4c73-cae1-85a28df67961"
      },
      "source": [
        "vis_df.boxplot(column = 'ZN')"
      ],
      "execution_count": 25,
      "outputs": [
        {
          "output_type": "execute_result",
          "data": {
            "text/plain": [
              "<matplotlib.axes._subplots.AxesSubplot at 0x7fb45e02b898>"
            ]
          },
          "metadata": {
            "tags": []
          },
          "execution_count": 25
        },
        {
          "output_type": "display_data",
          "data": {
            "image/png": "[encoded data removed]",
            "text/plain": [
              "<Figure size 432x288 with 1 Axes>"
            ]
          },
          "metadata": {
            "tags": [],
            "needs_background": "light"
          }
        }
      ]
    },
    {
      "cell_type": "markdown",
      "metadata": {
        "id": "_FnlvM2EKB3L"
      },
      "source": [
        "- Sobre os terrenos residenciais zoneados tem-se uma distribuição próxima de zero, mas com uma quantidade expressiva maior que zero\r\n",
        "- Valor máximo: 100%\r\n",
        "- Valor mínimo: 0%"
      ]
    },
    {
      "cell_type": "code",
      "metadata": {
        "colab": {
          "base_uri": "https://localhost:8080/",
          "height": 0
        },
        "id": "OhTeakZ79-vK",
        "outputId": "857ea670-03c1-49fc-fb05-00df4b653953"
      },
      "source": [
        "vis_df.boxplot(column = 'INDUS')"
      ],
      "execution_count": 26,
      "outputs": [
        {
          "output_type": "execute_result",
          "data": {
            "text/plain": [
              "<matplotlib.axes._subplots.AxesSubplot at 0x7fb45c78e5c0>"
            ]
          },
          "metadata": {
            "tags": []
          },
          "execution_count": 26
        },
        {
          "output_type": "display_data",
          "data": {
            "image/png": "[encoded data removed]",
            "text/plain": [
              "<Figure size 432x288 with 1 Axes>"
            ]
          },
          "metadata": {
            "tags": [],
            "needs_background": "light"
          }
        }
      ]
    },
    {
      "cell_type": "markdown",
      "metadata": {
        "id": "EqUBsJSnKR1J"
      },
      "source": [
        "- Para a proporção de acres de negócios não varejistas observa-se que está bem distribuido, com mediana em 10.\r\n",
        "- Valor máximo: 27.7\r\n",
        "- Valor mínimo: 0.46"
      ]
    },
    {
      "cell_type": "code",
      "metadata": {
        "colab": {
          "base_uri": "https://localhost:8080/",
          "height": 0
        },
        "id": "5rO1vLBb-At6",
        "outputId": "6e7103ac-f5dd-4c33-f509-5b08e6f8ecaf"
      },
      "source": [
        "vis_df.boxplot(column = 'CHAS')"
      ],
      "execution_count": 27,
      "outputs": [
        {
          "output_type": "execute_result",
          "data": {
            "text/plain": [
              "<matplotlib.axes._subplots.AxesSubplot at 0x7fb45c6f9c50>"
            ]
          },
          "metadata": {
            "tags": []
          },
          "execution_count": 27
        },
        {
          "output_type": "display_data",
          "data": {
            "image/png": "[encoded data removed]",
            "text/plain": [
              "<Figure size 432x288 with 1 Axes>"
            ]
          },
          "metadata": {
            "tags": [],
            "needs_background": "light"
          }
        }
      ]
    },
    {
      "cell_type": "markdown",
      "metadata": {
        "id": "1EcLYDd1LAA0"
      },
      "source": [
        "- Como já mencinoado é uma variável dummy que possui maioria significativa de 0, tendo alguns 1."
      ]
    },
    {
      "cell_type": "code",
      "metadata": {
        "colab": {
          "base_uri": "https://localhost:8080/",
          "height": 0
        },
        "id": "UpyFHZq8-DOF",
        "outputId": "0ff99b92-ad5e-4f77-a786-37367a21509b"
      },
      "source": [
        "vis_df.boxplot(column = 'NOX')"
      ],
      "execution_count": 28,
      "outputs": [
        {
          "output_type": "execute_result",
          "data": {
            "text/plain": [
              "<matplotlib.axes._subplots.AxesSubplot at 0x7fb45c6f9278>"
            ]
          },
          "metadata": {
            "tags": []
          },
          "execution_count": 28
        },
        {
          "output_type": "display_data",
          "data": {
            "image/png": "[encoded data removed]",
            "text/plain": [
              "<Figure size 432x288 with 1 Axes>"
            ]
          },
          "metadata": {
            "tags": [],
            "needs_background": "light"
          }
        }
      ]
    },
    {
      "cell_type": "markdown",
      "metadata": {
        "id": "QYWLJy7LMEra"
      },
      "source": [
        "- A concentração de óxidos nítricos aparenta estar bem distribuida, com mediana em 0.53.\r\n",
        "- Valor máximo: 0.87\r\n",
        "- Valor mínimo: 0.38"
      ]
    },
    {
      "cell_type": "code",
      "metadata": {
        "colab": {
          "base_uri": "https://localhost:8080/",
          "height": 0
        },
        "id": "VErWOXm3-Fk5",
        "outputId": "ec727531-e9b4-44d1-c33b-ccdc9bde2990"
      },
      "source": [
        "vis_df.boxplot(column = 'RM')"
      ],
      "execution_count": 29,
      "outputs": [
        {
          "output_type": "execute_result",
          "data": {
            "text/plain": [
              "<matplotlib.axes._subplots.AxesSubplot at 0x7fb45ff48470>"
            ]
          },
          "metadata": {
            "tags": []
          },
          "execution_count": 29
        },
        {
          "output_type": "display_data",
          "data": {
            "image/png": "[encoded data removed]",
            "text/plain": [
              "<Figure size 432x288 with 1 Axes>"
            ]
          },
          "metadata": {
            "tags": [],
            "needs_background": "light"
          }
        }
      ]
    },
    {
      "cell_type": "markdown",
      "metadata": {
        "id": "arwS9BiJMf7q"
      },
      "source": [
        "- Quanto ao número médio de quartos por habitação observa-se uma mediana de 6,2. Porém contém alguns outliers\r\n",
        "- Valor máximo: 8.8\r\n",
        "- Valor mínimo: 3.6"
      ]
    },
    {
      "cell_type": "code",
      "metadata": {
        "colab": {
          "base_uri": "https://localhost:8080/",
          "height": 0
        },
        "id": "zxIzUA91-Htc",
        "outputId": "421328ae-e4c9-4307-80cc-9d3dd6c8a75c"
      },
      "source": [
        "vis_df.boxplot(column = 'AGE')"
      ],
      "execution_count": 37,
      "outputs": [
        {
          "output_type": "execute_result",
          "data": {
            "text/plain": [
              "<matplotlib.axes._subplots.AxesSubplot at 0x7fb45fb51828>"
            ]
          },
          "metadata": {
            "tags": []
          },
          "execution_count": 37
        },
        {
          "output_type": "display_data",
          "data": {
            "image/png": "[encoded data removed]",
            "text/plain": [
              "<Figure size 432x288 with 1 Axes>"
            ]
          },
          "metadata": {
            "tags": [],
            "needs_background": "light"
          }
        }
      ]
    },
    {
      "cell_type": "markdown",
      "metadata": {
        "id": "0X7nEBYIOPUy"
      },
      "source": [
        "- A proporção de unidades construidas antes de 1940 tem mediana de quase 80% tendo alguns casos com 100%.\r\n",
        "- Valor máximo: 94%\r\n",
        "- Valor mínimo: 2.9%"
      ]
    },
    {
      "cell_type": "code",
      "metadata": {
        "colab": {
          "base_uri": "https://localhost:8080/",
          "height": 0
        },
        "id": "jZTmF21A-J_b",
        "outputId": "cf96f35b-aa40-434d-b218-12055da0faae"
      },
      "source": [
        "vis_df.boxplot(column = 'DIS')"
      ],
      "execution_count": 31,
      "outputs": [
        {
          "output_type": "execute_result",
          "data": {
            "text/plain": [
              "<matplotlib.axes._subplots.AxesSubplot at 0x7fb45fee5240>"
            ]
          },
          "metadata": {
            "tags": []
          },
          "execution_count": 31
        },
        {
          "output_type": "display_data",
          "data": {
            "image/png": "[encoded data removed]",
            "text/plain": [
              "<Figure size 432x288 with 1 Axes>"
            ]
          },
          "metadata": {
            "tags": [],
            "needs_background": "light"
          }
        }
      ]
    },
    {
      "cell_type": "markdown",
      "metadata": {
        "id": "jSIntYwEPdAX"
      },
      "source": [
        "- Distância ponderada com relação a centros de emprego possui mediana de 3, tendo alguns outliers\r\n",
        "- Valor máximo: 12.1\r\n",
        "- Valor mínimo: 1.1"
      ]
    },
    {
      "cell_type": "code",
      "metadata": {
        "colab": {
          "base_uri": "https://localhost:8080/",
          "height": 0
        },
        "id": "NYWhhxEL-MRP",
        "outputId": "1931bcb1-eec9-4e1c-c93b-7ab324b48b17"
      },
      "source": [
        "vis_df.boxplot(column = 'RAD')"
      ],
      "execution_count": 32,
      "outputs": [
        {
          "output_type": "execute_result",
          "data": {
            "text/plain": [
              "<matplotlib.axes._subplots.AxesSubplot at 0x7fb45f57c198>"
            ]
          },
          "metadata": {
            "tags": []
          },
          "execution_count": 32
        },
        {
          "output_type": "display_data",
          "data": {
            "image/png": "[encoded data removed]",
            "text/plain": [
              "<Figure size 432x288 with 1 Axes>"
            ]
          },
          "metadata": {
            "tags": [],
            "needs_background": "light"
          }
        }
      ]
    },
    {
      "cell_type": "markdown",
      "metadata": {
        "id": "NhE9tJeZbQy8"
      },
      "source": [
        "- O índice de acessibilidade a rodovias possui mediana de 5 e valores maiores bem distribuidos.\r\n",
        "- Valor máximo: 24\r\n",
        "- Valor mínimo: 1"
      ]
    },
    {
      "cell_type": "code",
      "metadata": {
        "colab": {
          "base_uri": "https://localhost:8080/",
          "height": 0
        },
        "id": "HhxGVGUw-ODL",
        "outputId": "8960f4f5-38cc-47e1-de8e-7dac85900198"
      },
      "source": [
        "vis_df.boxplot(column = 'TAX')"
      ],
      "execution_count": 33,
      "outputs": [
        {
          "output_type": "execute_result",
          "data": {
            "text/plain": [
              "<matplotlib.axes._subplots.AxesSubplot at 0x7fb45f86a320>"
            ]
          },
          "metadata": {
            "tags": []
          },
          "execution_count": 33
        },
        {
          "output_type": "display_data",
          "data": {
            "image/png": "[encoded data removed]",
            "text/plain": [
              "<Figure size 432x288 with 1 Axes>"
            ]
          },
          "metadata": {
            "tags": [],
            "needs_background": "light"
          }
        }
      ]
    },
    {
      "cell_type": "markdown",
      "metadata": {
        "id": "vyWWVptwbdQL"
      },
      "source": [
        "- A taxa de impostos possui mediana de aproximadamente 330 e valores maiores bem distribuidos.\r\n",
        "- Valor máximo: 711\r\n",
        "- Valor mínimo: 187"
      ]
    },
    {
      "cell_type": "code",
      "metadata": {
        "colab": {
          "base_uri": "https://localhost:8080/",
          "height": 0
        },
        "id": "q5PJFzKU-Vu3",
        "outputId": "0ff06713-42d5-415b-a144-017dde086efe"
      },
      "source": [
        "vis_df.boxplot(column = 'PTRATIO')"
      ],
      "execution_count": 34,
      "outputs": [
        {
          "output_type": "execute_result",
          "data": {
            "text/plain": [
              "<matplotlib.axes._subplots.AxesSubplot at 0x7fb45fa152b0>"
            ]
          },
          "metadata": {
            "tags": []
          },
          "execution_count": 34
        },
        {
          "output_type": "display_data",
          "data": {
            "image/png": "[encoded data removed]",
            "text/plain": [
              "<Figure size 432x288 with 1 Axes>"
            ]
          },
          "metadata": {
            "tags": [],
            "needs_background": "light"
          }
        }
      ]
    },
    {
      "cell_type": "markdown",
      "metadata": {
        "id": "G_vtDAlObm2c"
      },
      "source": [
        "- A mediana da proporção de alunos por professor é de 19% sendo bem concentrada entre 12% e 22%\r\n",
        "- Valor máximo: 22\r\n",
        "- Valor mínimo: 12.6"
      ]
    },
    {
      "cell_type": "code",
      "metadata": {
        "colab": {
          "base_uri": "https://localhost:8080/",
          "height": 0
        },
        "id": "ZLqathbS-gZ4",
        "outputId": "89657d50-9118-4209-f09b-bb6b37fc35a0"
      },
      "source": [
        "vis_df.boxplot(column = 'B')"
      ],
      "execution_count": 35,
      "outputs": [
        {
          "output_type": "execute_result",
          "data": {
            "text/plain": [
              "<matplotlib.axes._subplots.AxesSubplot at 0x7fb45fab44e0>"
            ]
          },
          "metadata": {
            "tags": []
          },
          "execution_count": 35
        },
        {
          "output_type": "display_data",
          "data": {
            "image/png": "[encoded data removed]",
            "text/plain": [
              "<Figure size 432x288 with 1 Axes>"
            ]
          },
          "metadata": {
            "tags": [],
            "needs_background": "light"
          }
        }
      ]
    },
    {
      "cell_type": "markdown",
      "metadata": {
        "id": "Edjp5frib7nh"
      },
      "source": [
        "- O valor de B, que se baseia na proporção de negros por cidade possui mediana próxima de 400, com seu máximo em 400 e diversos outliers até 0\r\n",
        "- Valor máximo: 396.9\r\n",
        "- Valor mínimo: 0.3"
      ]
    },
    {
      "cell_type": "code",
      "metadata": {
        "colab": {
          "base_uri": "https://localhost:8080/",
          "height": 0
        },
        "id": "GIgkVxrB-h6o",
        "outputId": "4ddacf7e-360d-4357-f10c-26af56505c65"
      },
      "source": [
        "vis_df.boxplot(column = 'LSTAT')"
      ],
      "execution_count": 36,
      "outputs": [
        {
          "output_type": "execute_result",
          "data": {
            "text/plain": [
              "<matplotlib.axes._subplots.AxesSubplot at 0x7fb45f793630>"
            ]
          },
          "metadata": {
            "tags": []
          },
          "execution_count": 36
        },
        {
          "output_type": "display_data",
          "data": {
            "image/png": "[encoded data removed]",
            "text/plain": [
              "<Figure size 432x288 with 1 Axes>"
            ]
          },
          "metadata": {
            "tags": [],
            "needs_background": "light"
          }
        }
      ]
    },
    {
      "cell_type": "markdown",
      "metadata": {
        "id": "QExK-7BDclwo"
      },
      "source": [
        "- Quanto a porcentagem de status inferior da população a mediana é em torno de 12, com alguns outliers.\r\n",
        "- Valor máximo: 38\r\n",
        "- Valor mínimo: 1.7"
      ]
    },
    {
      "cell_type": "markdown",
      "metadata": {
        "id": "Q9H9Ihcku_Rt"
      },
      "source": [
        "# **4 - Preparação do conjunto de dados**"
      ]
    },
    {
      "cell_type": "markdown",
      "metadata": {
        "id": "2uB8C-2Oz1SI"
      },
      "source": [
        "- Retirando rótulo do conjunto de treino:"
      ]
    },
    {
      "cell_type": "code",
      "metadata": {
        "id": "SdRyEF5FvHyM"
      },
      "source": [
        "treino = strat_train_set.drop('target', axis = 1)\r\n",
        "treino_labels = strat_train_set['target'].copy()"
      ],
      "execution_count": 38,
      "outputs": []
    },
    {
      "cell_type": "markdown",
      "metadata": {
        "id": "QLAShjnZ03zQ"
      },
      "source": [
        "- Como este conjunto de dados não possui observações com campos faltantes não é necessário aplicar um imputer para atribuir um valor ou excluir nenhuma observação.\r\n",
        "- Também todas as colunas já estão na forma numérica, dispensando qualquer tratamento referentes a categorização de algum campo. Também dispensando a separação da pipeline em uma já numérica e uma das categóricas que seriam encodadas.\r\n",
        "- Também não foi realizado nenhum processo de feature engineering, que caso houvesse seria necessário considerar na construção de uma pipeline de pré-processamento.\r\n",
        "- Portanto único pré processamento necessário é fazer um *scale* dos dados."
      ]
    },
    {
      "cell_type": "code",
      "metadata": {
        "id": "Wqw512PX0e-4"
      },
      "source": [
        "atributos = list(treino)\r\n",
        "\r\n",
        "pipeline = Pipeline([\r\n",
        "        ('scaler', StandardScaler()),\r\n",
        "    ])\r\n",
        "\r\n",
        "treino_tratado = pipeline.fit_transform(treino)"
      ],
      "execution_count": 76,
      "outputs": []
    },
    {
      "cell_type": "code",
      "metadata": {
        "colab": {
          "base_uri": "https://localhost:8080/"
        },
        "id": "jQBkict_2-Uh",
        "outputId": "4a1d6987-1b51-4edb-f01a-9c4e4eb761a9"
      },
      "source": [
        "treino_tratado"
      ],
      "execution_count": 40,
      "outputs": [
        {
          "output_type": "execute_result",
          "data": {
            "text/plain": [
              "array([[ 1.24768736, -0.50212842,  1.01378578, ...,  0.7997827 ,\n",
              "         0.44040912,  0.49559715],\n",
              "       [-0.38984232, -0.50212842,  1.56884327, ...,  1.25429418,\n",
              "         0.41968748, -0.02568565],\n",
              "       [ 0.37787384, -0.50212842,  1.01378578, ...,  0.7997827 ,\n",
              "        -2.89009389, -0.10492064],\n",
              "       ...,\n",
              "       [ 0.17558332, -0.50212842,  1.01378578, ...,  0.7997827 ,\n",
              "         0.34370812, -0.18554571],\n",
              "       [-0.41823428, -0.50212842, -0.38337741, ...,  1.11794073,\n",
              "         0.42570344, -0.71099877],\n",
              "       [-0.36543484,  0.36730213, -1.05559743, ..., -2.47269995,\n",
              "         0.34537922, -0.76799235]])"
            ]
          },
          "metadata": {
            "tags": []
          },
          "execution_count": 40
        }
      ]
    },
    {
      "cell_type": "code",
      "metadata": {
        "colab": {
          "base_uri": "https://localhost:8080/"
        },
        "id": "0qiKtT6-3Wp-",
        "outputId": "294a3c03-cdd9-467c-9ae0-62eeb2770e76"
      },
      "source": [
        "treino_tratado.shape"
      ],
      "execution_count": 41,
      "outputs": [
        {
          "output_type": "execute_result",
          "data": {
            "text/plain": [
              "(404, 13)"
            ]
          },
          "metadata": {
            "tags": []
          },
          "execution_count": 41
        }
      ]
    },
    {
      "cell_type": "markdown",
      "metadata": {
        "id": "QmKhBdNUvI58"
      },
      "source": [
        "# **5 - Comparar ao menos 3 modelos de machine learning e algumas configuração de hiperparâmetros**"
      ]
    },
    {
      "cell_type": "markdown",
      "metadata": {
        "id": "EOwKz4O632rc"
      },
      "source": [
        "### Modelo 1 (Regressão Linear)"
      ]
    },
    {
      "cell_type": "code",
      "metadata": {
        "id": "DbGIa2S2vPNK",
        "colab": {
          "base_uri": "https://localhost:8080/"
        },
        "outputId": "3cd53fe5-84c1-4621-9e79-335b4ea374b5"
      },
      "source": [
        "lin_reg = LinearRegression()\r\n",
        "lin_reg.fit(treino_tratado, treino_labels) "
      ],
      "execution_count": 42,
      "outputs": [
        {
          "output_type": "execute_result",
          "data": {
            "text/plain": [
              "LinearRegression(copy_X=True, fit_intercept=True, n_jobs=None, normalize=False)"
            ]
          },
          "metadata": {
            "tags": []
          },
          "execution_count": 42
        }
      ]
    },
    {
      "cell_type": "markdown",
      "metadata": {
        "id": "s1N_ZgId6MiS"
      },
      "source": [
        "- Métricas para avaliar o modelo:"
      ]
    },
    {
      "cell_type": "code",
      "metadata": {
        "colab": {
          "base_uri": "https://localhost:8080/"
        },
        "id": "st9SPy2s5ChA",
        "outputId": "8b1764fb-ea83-4fba-df31-588a5d089e73"
      },
      "source": [
        "# RMSE\r\n",
        "\r\n",
        "treino_pred = lin_reg.predict(treino_tratado)\r\n",
        "lin_mse = MSE(treino_labels, treino_pred)\r\n",
        "lin_rmse = np.sqrt(lin_mse)\r\n",
        "lin_rmse"
      ],
      "execution_count": 43,
      "outputs": [
        {
          "output_type": "execute_result",
          "data": {
            "text/plain": [
              "4.683143531851959"
            ]
          },
          "metadata": {
            "tags": []
          },
          "execution_count": 43
        }
      ]
    },
    {
      "cell_type": "code",
      "metadata": {
        "colab": {
          "base_uri": "https://localhost:8080/"
        },
        "id": "00U1wUZC6nK8",
        "outputId": "43c2cad8-7335-4eeb-9938-367540c656f4"
      },
      "source": [
        "# MAE\r\n",
        "\r\n",
        "lin_mae = MAE(treino_labels, treino_pred)\r\n",
        "lin_mae"
      ],
      "execution_count": 44,
      "outputs": [
        {
          "output_type": "execute_result",
          "data": {
            "text/plain": [
              "3.2701246014379546"
            ]
          },
          "metadata": {
            "tags": []
          },
          "execution_count": 44
        }
      ]
    },
    {
      "cell_type": "code",
      "metadata": {
        "colab": {
          "base_uri": "https://localhost:8080/"
        },
        "id": "vhNB24DpGFsD",
        "outputId": "948e3ad7-ed22-47bc-e539-8d3e2822901a"
      },
      "source": [
        "# Usando Cross Validation\r\n",
        "\r\n",
        "scores = cross_val_score(lin_reg, treino_tratado, treino_labels,\r\n",
        "                         scoring=\"neg_mean_squared_error\", cv=10) \r\n",
        "\r\n",
        "lin_rmse_scores = np.sqrt(-scores)\r\n",
        "\r\n",
        "display_scores(lin_rmse_scores)"
      ],
      "execution_count": 45,
      "outputs": [
        {
          "output_type": "stream",
          "text": [
            "Scores: [4.94615266 4.14352966 5.24167335 4.6270265  3.67130086 5.43609879\n",
            " 5.09440372 3.65704483 5.58568454 5.72264864]\n",
            "Mean: 4.812556355490777\n",
            "Standard deviation: 0.7222130338201572\n"
          ],
          "name": "stdout"
        }
      ]
    },
    {
      "cell_type": "markdown",
      "metadata": {
        "id": "PE6_cAFBKB9u"
      },
      "source": [
        "- Neste modelos podemos observar que a pontuação no conjunto de treino é levemente menor do que nos conjuntos de validação."
      ]
    },
    {
      "cell_type": "markdown",
      "metadata": {
        "id": "b-aK9SGH7e_-"
      },
      "source": [
        "### Modelo 2 (Decision Tree)"
      ]
    },
    {
      "cell_type": "code",
      "metadata": {
        "colab": {
          "base_uri": "https://localhost:8080/"
        },
        "id": "W4k_bZ4h7oC-",
        "outputId": "50e6720e-ffa9-4747-be67-b8e81486c8d5"
      },
      "source": [
        "decision_tree_reg = DecisionTreeRegressor(random_state= seed)\r\n",
        "decision_tree_reg.fit(treino_tratado, treino_labels)"
      ],
      "execution_count": 46,
      "outputs": [
        {
          "output_type": "execute_result",
          "data": {
            "text/plain": [
              "DecisionTreeRegressor(ccp_alpha=0.0, criterion='mse', max_depth=None,\n",
              "                      max_features=None, max_leaf_nodes=None,\n",
              "                      min_impurity_decrease=0.0, min_impurity_split=None,\n",
              "                      min_samples_leaf=1, min_samples_split=2,\n",
              "                      min_weight_fraction_leaf=0.0, presort='deprecated',\n",
              "                      random_state=1701, splitter='best')"
            ]
          },
          "metadata": {
            "tags": []
          },
          "execution_count": 46
        }
      ]
    },
    {
      "cell_type": "markdown",
      "metadata": {
        "id": "PGqAU5SyJ9A0"
      },
      "source": [
        "- Métricas para avaliar o modelo:"
      ]
    },
    {
      "cell_type": "code",
      "metadata": {
        "colab": {
          "base_uri": "https://localhost:8080/"
        },
        "id": "5tbdgL-FD0ZI",
        "outputId": "d766b7be-d5fb-42bb-de77-335186ae2507"
      },
      "source": [
        "# RMSE\r\n",
        "\r\n",
        "treino_pred = decision_tree_reg.predict(treino_tratado)\r\n",
        "decision_tree_mse = MSE(treino_labels, treino_pred)\r\n",
        "decision_tree_rmse = np.sqrt(decision_tree_mse)\r\n",
        "decision_tree_rmse"
      ],
      "execution_count": 47,
      "outputs": [
        {
          "output_type": "execute_result",
          "data": {
            "text/plain": [
              "0.0"
            ]
          },
          "metadata": {
            "tags": []
          },
          "execution_count": 47
        }
      ]
    },
    {
      "cell_type": "code",
      "metadata": {
        "colab": {
          "base_uri": "https://localhost:8080/"
        },
        "id": "9YYBVZ9xJLbg",
        "outputId": "a8f0d452-69da-46e4-cb59-1c4bf10af3f9"
      },
      "source": [
        "# MAE\r\n",
        "\r\n",
        "decision_tree_mae = MAE(treino_labels, treino_pred)\r\n",
        "decision_tree_mae"
      ],
      "execution_count": 48,
      "outputs": [
        {
          "output_type": "execute_result",
          "data": {
            "text/plain": [
              "0.0"
            ]
          },
          "metadata": {
            "tags": []
          },
          "execution_count": 48
        }
      ]
    },
    {
      "cell_type": "code",
      "metadata": {
        "colab": {
          "base_uri": "https://localhost:8080/"
        },
        "id": "QRkkXFFNEaPV",
        "outputId": "aef729cf-317c-4622-dfb2-d623a25ca5ab"
      },
      "source": [
        "# Usando Cross Validation\r\n",
        "\r\n",
        "scores = cross_val_score(decision_tree_reg, treino_tratado, treino_labels,\r\n",
        "                         scoring=\"neg_mean_squared_error\", cv=10) \r\n",
        "\r\n",
        "decision_tree_rmse_scores = np.sqrt(-scores)\r\n",
        "\r\n",
        "display_scores(decision_tree_rmse_scores)"
      ],
      "execution_count": 49,
      "outputs": [
        {
          "output_type": "stream",
          "text": [
            "Scores: [7.8309891  3.64427382 4.07592575 5.44592038 3.85431576 5.69519534\n",
            " 3.33826302 3.04314804 4.15629041 4.30874112]\n",
            "Mean: 4.539306275049141\n",
            "Standard deviation: 1.3549567106151257\n"
          ],
          "name": "stdout"
        }
      ]
    },
    {
      "cell_type": "markdown",
      "metadata": {
        "id": "5Yg8JdmXKT9v"
      },
      "source": [
        "- Neste modelos podemos observar que a pontuação no conjunto de treino é significativamente menor do que nos conjuntos de validação, chegando a ser zero no conjunto de treino, o que indica um possível *overfit* (sobreajuste)."
      ]
    },
    {
      "cell_type": "markdown",
      "metadata": {
        "id": "QlzH-_Q57sr8"
      },
      "source": [
        "### Modelo 3 (Random Forest)"
      ]
    },
    {
      "cell_type": "code",
      "metadata": {
        "colab": {
          "base_uri": "https://localhost:8080/"
        },
        "id": "03ABP87f7igg",
        "outputId": "77f3f78f-17cf-4fef-d22b-f0683b8f00da"
      },
      "source": [
        "rf_reg = RandomForestRegressor(n_estimators=10, random_state=seed)\r\n",
        "rf_reg.fit(treino_tratado, treino_labels)"
      ],
      "execution_count": 50,
      "outputs": [
        {
          "output_type": "execute_result",
          "data": {
            "text/plain": [
              "RandomForestRegressor(bootstrap=True, ccp_alpha=0.0, criterion='mse',\n",
              "                      max_depth=None, max_features='auto', max_leaf_nodes=None,\n",
              "                      max_samples=None, min_impurity_decrease=0.0,\n",
              "                      min_impurity_split=None, min_samples_leaf=1,\n",
              "                      min_samples_split=2, min_weight_fraction_leaf=0.0,\n",
              "                      n_estimators=10, n_jobs=None, oob_score=False,\n",
              "                      random_state=1701, verbose=0, warm_start=False)"
            ]
          },
          "metadata": {
            "tags": []
          },
          "execution_count": 50
        }
      ]
    },
    {
      "cell_type": "markdown",
      "metadata": {
        "id": "eBgFjpvXJ-UE"
      },
      "source": [
        "- Métricas para avaliar o modelo:"
      ]
    },
    {
      "cell_type": "code",
      "metadata": {
        "colab": {
          "base_uri": "https://localhost:8080/"
        },
        "id": "ysiovkoiIoia",
        "outputId": "98af545a-f564-4d1f-f158-a05a59c994fd"
      },
      "source": [
        "# RMSE\r\n",
        "\r\n",
        "treino_pred = rf_reg.predict(treino_tratado)\r\n",
        "rf_mse = MSE(treino_labels, treino_pred)\r\n",
        "rf_rmse = np.sqrt(rf_mse)\r\n",
        "rf_rmse"
      ],
      "execution_count": 51,
      "outputs": [
        {
          "output_type": "execute_result",
          "data": {
            "text/plain": [
              "1.5447559806014541"
            ]
          },
          "metadata": {
            "tags": []
          },
          "execution_count": 51
        }
      ]
    },
    {
      "cell_type": "code",
      "metadata": {
        "colab": {
          "base_uri": "https://localhost:8080/"
        },
        "id": "0I-oIEvgI9ZY",
        "outputId": "2279e755-3cfa-4ab7-e0f4-750d7219cc8e"
      },
      "source": [
        "# MAE\r\n",
        "\r\n",
        "rf_mae = MAE(treino_labels, treino_pred)\r\n",
        "rf_mae"
      ],
      "execution_count": 52,
      "outputs": [
        {
          "output_type": "execute_result",
          "data": {
            "text/plain": [
              "1.0157673267326732"
            ]
          },
          "metadata": {
            "tags": []
          },
          "execution_count": 52
        }
      ]
    },
    {
      "cell_type": "code",
      "metadata": {
        "colab": {
          "base_uri": "https://localhost:8080/"
        },
        "id": "pIcZ4DhpI0RI",
        "outputId": "cf44328b-f797-4c65-e37e-cb9b92c26f76"
      },
      "source": [
        "# Usando Cross Validation\r\n",
        "\r\n",
        "scores = cross_val_score(rf_reg, treino_tratado, treino_labels,\r\n",
        "                         scoring=\"neg_mean_squared_error\", cv=10) \r\n",
        "\r\n",
        "rf_rmse_scores = np.sqrt(-scores)\r\n",
        "\r\n",
        "display_scores(rf_rmse_scores)"
      ],
      "execution_count": 53,
      "outputs": [
        {
          "output_type": "stream",
          "text": [
            "Scores: [5.23035255 3.08432663 2.81267948 3.23499764 3.20829978 4.58328321\n",
            " 3.05691675 2.76419835 3.14237331 3.35691376]\n",
            "Mean: 3.447434145667601\n",
            "Standard deviation: 0.7633215088802651\n"
          ],
          "name": "stdout"
        }
      ]
    },
    {
      "cell_type": "markdown",
      "metadata": {
        "id": "2QMnFO5LKiKL"
      },
      "source": [
        "- Neste modelos podemos observar que a pontuação no conjunto de treino é significativamente menor do que nos conjuntos de validação, o que indica um possível *overfit* (sobreajuste)."
      ]
    },
    {
      "cell_type": "markdown",
      "metadata": {
        "id": "mgIzqxQt7fn-"
      },
      "source": [
        "### Ajuste no modelo"
      ]
    },
    {
      "cell_type": "markdown",
      "metadata": {
        "id": "c-vbx09ILIjp"
      },
      "source": [
        "- Para lidar com o overfit pode-se seguir as seguintes soluções apresentadas no projeto *California Housing*: Simplificar o modelo, regularizar o modelo, ou obter mais dados. A obtenção de mais dados não é possível neste caso, e geralmente é muito custosa. A simplificação poderia ser um caminho, utilizando o modelo 1, de regressão linear, por exemplo. Porém pode-se tentar a ajustar os parametros do modelo, como será demonstrado a seguir."
      ]
    },
    {
      "cell_type": "code",
      "metadata": {
        "id": "M_tcfzhSL47u",
        "colab": {
          "base_uri": "https://localhost:8080/"
        },
        "outputId": "62227eff-9a9d-490e-fb0b-bb7295b43373"
      },
      "source": [
        "param_grid = [\r\n",
        "\r\n",
        "    {'n_estimators': [5, 50, 100], 'max_features': [4, 6, 8]},\r\n",
        "  \r\n",
        "    {'bootstrap': [False], 'n_estimators': [5, 10], 'max_features': [2, 3, 4]},\r\n",
        "  ]\r\n",
        "\r\n",
        "rf_reg = RandomForestRegressor(random_state=seed)\r\n",
        "\r\n",
        "grid_search = GridSearchCV(rf_reg, param_grid, cv=5,\r\n",
        "                           scoring='neg_mean_squared_error',\r\n",
        "                           return_train_score=True)\r\n",
        "\r\n",
        "grid_search.fit(treino_tratado, treino_labels)"
      ],
      "execution_count": 70,
      "outputs": [
        {
          "output_type": "execute_result",
          "data": {
            "text/plain": [
              "GridSearchCV(cv=5, error_score=nan,\n",
              "             estimator=RandomForestRegressor(bootstrap=True, ccp_alpha=0.0,\n",
              "                                             criterion='mse', max_depth=None,\n",
              "                                             max_features='auto',\n",
              "                                             max_leaf_nodes=None,\n",
              "                                             max_samples=None,\n",
              "                                             min_impurity_decrease=0.0,\n",
              "                                             min_impurity_split=None,\n",
              "                                             min_samples_leaf=1,\n",
              "                                             min_samples_split=2,\n",
              "                                             min_weight_fraction_leaf=0.0,\n",
              "                                             n_estimators=100, n_jobs=None,\n",
              "                                             oob_score=False, random_state=1701,\n",
              "                                             verbose=0, warm_start=False),\n",
              "             iid='deprecated', n_jobs=None,\n",
              "             param_grid=[{'max_features': [4, 6, 8],\n",
              "                          'n_estimators': [5, 50, 100]},\n",
              "                         {'bootstrap': [False], 'max_features': [2, 3, 4],\n",
              "                          'n_estimators': [5, 10]}],\n",
              "             pre_dispatch='2*n_jobs', refit=True, return_train_score=True,\n",
              "             scoring='neg_mean_squared_error', verbose=0)"
            ]
          },
          "metadata": {
            "tags": []
          },
          "execution_count": 70
        }
      ]
    },
    {
      "cell_type": "markdown",
      "metadata": {
        "id": "UsIDQLuk_Z7Q"
      },
      "source": [
        "- Realizando um *GridSearch* como no caso do *California Housing*, e verificando os melhores parâmetros abaixo:"
      ]
    },
    {
      "cell_type": "code",
      "metadata": {
        "colab": {
          "base_uri": "https://localhost:8080/"
        },
        "id": "CzTziNie-chM",
        "outputId": "bb3e0f94-30dc-4b57-bf5c-4270e6f8b1e4"
      },
      "source": [
        "grid_search.best_params_"
      ],
      "execution_count": 71,
      "outputs": [
        {
          "output_type": "execute_result",
          "data": {
            "text/plain": [
              "{'max_features': 6, 'n_estimators': 50}"
            ]
          },
          "metadata": {
            "tags": []
          },
          "execution_count": 71
        }
      ]
    },
    {
      "cell_type": "code",
      "metadata": {
        "colab": {
          "base_uri": "https://localhost:8080/"
        },
        "id": "IoMxeq_o_qb7",
        "outputId": "76dc1609-e742-4517-df09-cf2a2858bca0"
      },
      "source": [
        "grid_search.best_estimator_"
      ],
      "execution_count": 72,
      "outputs": [
        {
          "output_type": "execute_result",
          "data": {
            "text/plain": [
              "RandomForestRegressor(bootstrap=True, ccp_alpha=0.0, criterion='mse',\n",
              "                      max_depth=None, max_features=6, max_leaf_nodes=None,\n",
              "                      max_samples=None, min_impurity_decrease=0.0,\n",
              "                      min_impurity_split=None, min_samples_leaf=1,\n",
              "                      min_samples_split=2, min_weight_fraction_leaf=0.0,\n",
              "                      n_estimators=50, n_jobs=None, oob_score=False,\n",
              "                      random_state=1701, verbose=0, warm_start=False)"
            ]
          },
          "metadata": {
            "tags": []
          },
          "execution_count": 72
        }
      ]
    },
    {
      "cell_type": "markdown",
      "metadata": {
        "id": "z6_u0SxvBF12"
      },
      "source": [
        "- Outra maneira de realizar o ajuste é utilizando o *RandomizedSearchCV*, que permite uma busca de hiperparâmetros com um grande número de combinações."
      ]
    },
    {
      "cell_type": "code",
      "metadata": {
        "colab": {
          "base_uri": "https://localhost:8080/"
        },
        "id": "lA5hxJLZ-fWF",
        "outputId": "8ef46765-407b-48fe-e5ac-711390e2574c"
      },
      "source": [
        "param_distribs = {\r\n",
        "        'n_estimators': randint(low=1, high=300),\r\n",
        "        'max_features': randint(low=1, high=10),\r\n",
        "    }\r\n",
        "\r\n",
        "rf_reg = RandomForestRegressor(random_state=seed)\r\n",
        "\r\n",
        "rnd_search = RandomizedSearchCV(rf_reg,\r\n",
        "                                param_distributions=param_distribs,\r\n",
        "                                n_iter=10,\r\n",
        "                                cv=5, \r\n",
        "                                scoring='neg_mean_squared_error', \r\n",
        "                                random_state=seed)\r\n",
        "\r\n",
        "rnd_search.fit(treino_tratado, treino_labels)"
      ],
      "execution_count": 73,
      "outputs": [
        {
          "output_type": "execute_result",
          "data": {
            "text/plain": [
              "RandomizedSearchCV(cv=5, error_score=nan,\n",
              "                   estimator=RandomForestRegressor(bootstrap=True,\n",
              "                                                   ccp_alpha=0.0,\n",
              "                                                   criterion='mse',\n",
              "                                                   max_depth=None,\n",
              "                                                   max_features='auto',\n",
              "                                                   max_leaf_nodes=None,\n",
              "                                                   max_samples=None,\n",
              "                                                   min_impurity_decrease=0.0,\n",
              "                                                   min_impurity_split=None,\n",
              "                                                   min_samples_leaf=1,\n",
              "                                                   min_samples_split=2,\n",
              "                                                   min_weight_fraction_leaf=0.0,\n",
              "                                                   n_estimators=100,\n",
              "                                                   n_jobs=None, oob_score=Fals...\n",
              "                                                   warm_start=False),\n",
              "                   iid='deprecated', n_iter=10, n_jobs=None,\n",
              "                   param_distributions={'max_features': <scipy.stats._distn_infrastructure.rv_frozen object at 0x7fb45f82a1d0>,\n",
              "                                        'n_estimators': <scipy.stats._distn_infrastructure.rv_frozen object at 0x7fb45f82ada0>},\n",
              "                   pre_dispatch='2*n_jobs', random_state=1701, refit=True,\n",
              "                   return_train_score=False, scoring='neg_mean_squared_error',\n",
              "                   verbose=0)"
            ]
          },
          "metadata": {
            "tags": []
          },
          "execution_count": 73
        }
      ]
    },
    {
      "cell_type": "code",
      "metadata": {
        "colab": {
          "base_uri": "https://localhost:8080/"
        },
        "id": "xZPkHyi4B4qq",
        "outputId": "d01fe464-524c-4623-daf2-07bc2caaf694"
      },
      "source": [
        "cv_res = rnd_search.cv_results_\r\n",
        "for mean_score, params in zip(cv_res[\"mean_test_score\"], cv_res[\"params\"]):\r\n",
        "    print(np.sqrt(-mean_score), params)"
      ],
      "execution_count": 74,
      "outputs": [
        {
          "output_type": "stream",
          "text": [
            "3.383240306983182 {'max_features': 5, 'n_estimators': 95}\n",
            "3.4765488680458385 {'max_features': 4, 'n_estimators': 17}\n",
            "3.378781456681188 {'max_features': 5, 'n_estimators': 291}\n",
            "3.4155306029840755 {'max_features': 9, 'n_estimators': 227}\n",
            "3.4414258362970234 {'max_features': 4, 'n_estimators': 68}\n",
            "3.383997340740754 {'max_features': 7, 'n_estimators': 291}\n",
            "3.596428024809922 {'max_features': 2, 'n_estimators': 214}\n",
            "3.5963022125145208 {'max_features': 2, 'n_estimators': 221}\n",
            "3.4753502004860617 {'max_features': 8, 'n_estimators': 100}\n",
            "4.016567178084492 {'max_features': 1, 'n_estimators': 34}\n"
          ],
          "name": "stdout"
        }
      ]
    },
    {
      "cell_type": "markdown",
      "metadata": {
        "id": "WhtfbVsGCRaE"
      },
      "source": [
        "- Observando as características mais importantes para o modelo:"
      ]
    },
    {
      "cell_type": "code",
      "metadata": {
        "colab": {
          "base_uri": "https://localhost:8080/"
        },
        "id": "XKTct136CKmC",
        "outputId": "93d11171-5097-4132-a19d-af88a094c8c4"
      },
      "source": [
        "feature_importances = grid_search.best_estimator_.feature_importances_\r\n",
        "\r\n",
        "sorted(zip(feature_importances, atributos), reverse=True)"
      ],
      "execution_count": 77,
      "outputs": [
        {
          "output_type": "execute_result",
          "data": {
            "text/plain": [
              "[(0.3676939791449859, 'LSTAT'),\n",
              " (0.28786769010982427, 'RM'),\n",
              " (0.06656059696793185, 'DIS'),\n",
              " (0.06312457641863779, 'CRIM'),\n",
              " (0.05424347137642899, 'NOX'),\n",
              " (0.05245938352245017, 'INDUS'),\n",
              " (0.04304706748400196, 'PTRATIO'),\n",
              " (0.023376415861906072, 'AGE'),\n",
              " (0.01613493764453182, 'B'),\n",
              " (0.01320400605287486, 'TAX'),\n",
              " (0.007192018983078954, 'RAD'),\n",
              " (0.003575854256398259, 'CHAS'),\n",
              " (0.0015200021769492431, 'ZN')]"
            ]
          },
          "metadata": {
            "tags": []
          },
          "execution_count": 77
        }
      ]
    },
    {
      "cell_type": "markdown",
      "metadata": {
        "id": "lIfczew1F7hB"
      },
      "source": [
        "- Podemos observar que as características mais relevantes são LSTAT, que é a porcentagem de status inferior da população, e em seguida RM, que é o número médio de quartos por habitação."
      ]
    },
    {
      "cell_type": "markdown",
      "metadata": {
        "id": "gEQeKLsLvQty"
      },
      "source": [
        "# **6 - Fazer teste final para obter um erro aproximado**"
      ]
    },
    {
      "cell_type": "markdown",
      "metadata": {
        "id": "AWTSGAI9GnZ5"
      },
      "source": [
        "- Realizando teste final no modelo selecionado e ajustado:"
      ]
    },
    {
      "cell_type": "code",
      "metadata": {
        "id": "UktgsNqVvYGR"
      },
      "source": [
        "model = rnd_search.best_estimator_\r\n",
        "\r\n",
        "X_test = strat_test_set.drop('target', axis=1)\r\n",
        "y_test = strat_test_set['target'].copy()\r\n",
        "\r\n",
        "X_test_tratado = pipeline.transform(X_test)\r\n",
        "\r\n",
        "predictions = model.predict(X_test_tratado)\r\n",
        "\r\n",
        "final_mse = MSE(y_test, predictions)\r\n",
        "final_rmse = np.sqrt(final_mse)"
      ],
      "execution_count": 79,
      "outputs": []
    },
    {
      "cell_type": "code",
      "metadata": {
        "colab": {
          "base_uri": "https://localhost:8080/"
        },
        "id": "ej6GIbDKJT8N",
        "outputId": "76491d7f-813a-47ff-b6f5-e402a248dbb8"
      },
      "source": [
        "final_rmse"
      ],
      "execution_count": 80,
      "outputs": [
        {
          "output_type": "execute_result",
          "data": {
            "text/plain": [
              "2.9377420744172222"
            ]
          },
          "metadata": {
            "tags": []
          },
          "execution_count": 80
        }
      ]
    },
    {
      "cell_type": "markdown",
      "metadata": {
        "id": "VnwRdFEiJ0iK"
      },
      "source": [
        "- Onde podemos notar uma melhora de desempenho."
      ]
    }
  ]
}